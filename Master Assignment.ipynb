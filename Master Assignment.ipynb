{
 "cells": [
  {
   "cell_type": "markdown",
   "metadata": {},
   "source": [
    "# Assignment 1"
   ]
  },
  {
   "cell_type": "markdown",
   "metadata": {},
   "source": [
    "# 1.1 Install Jupyter notebook and run the first program and share the screenshot of the output."
   ]
  },
  {
   "cell_type": "code",
   "execution_count": 1,
   "metadata": {},
   "outputs": [],
   "source": [
    "#Program to calculate the maximum handling capacity in a company's conference room eg: EY\n"
   ]
  },
  {
   "cell_type": "code",
   "execution_count": 2,
   "metadata": {},
   "outputs": [
    {
     "name": "stdout",
     "output_type": "stream",
     "text": [
      "enter number of employees: 31\n",
      "Booking is available\n"
     ]
    }
   ],
   "source": [
    " # max cap=50 number of chairs available\n",
    "i=int(input('enter number of employees: '))#we take 31 in first instance \n",
    "if  i<=50:                        # if statement followed by condition to not exceed 50\n",
    "    print('Booking is available')\n",
    "else:                            #else asks to re-evaluate   \n",
    "    print('number exceeds')\n",
    "    "
   ]
  },
  {
   "cell_type": "code",
   "execution_count": 3,
   "metadata": {},
   "outputs": [
    {
     "name": "stdout",
     "output_type": "stream",
     "text": [
      "enter number of employees: 61\n",
      "number exceeds\n"
     ]
    }
   ],
   "source": [
    "# max cap=50 number of chairs available\n",
    "i=int(input('enter number of employees: '))#we take 60 in second instance\n",
    "if  i<=50:                        # if statement followed by condition to not exceed 50\n",
    "    print('Booking is available')\n",
    "else:                            #else asks to re-evaluate   \n",
    "    print('number exceeds')"
   ]
  },
  {
   "cell_type": "markdown",
   "metadata": {},
   "source": [
    "# 1.2 Write a program which will find all such numbers which are divisible by 7 but are not a multiple of 5, between 2000 and 3200 (both included). The numbers obtained should be printed in a comma-separated sequence on a single line."
   ]
  },
  {
   "cell_type": "code",
   "execution_count": 4,
   "metadata": {},
   "outputs": [
    {
     "name": "stdout",
     "output_type": "stream",
     "text": [
      "2002,2009,2016,2023,2037,2044,2051,2058,2072,2079,2086,2093,2107,2114,2121,2128,2142,2149,2156,2163,2177,2184,2191,2198,2212,2219,2226,2233,2247,2254,2261,2268,2282,2289,2296,2303,2317,2324,2331,2338,2352,2359,2366,2373,2387,2394,2401,2408,2422,2429,2436,2443,2457,2464,2471,2478,2492,2499,2506,2513,2527,2534,2541,2548,2562,2569,2576,2583,2597,2604,2611,2618,2632,2639,2646,2653,2667,2674,2681,2688,2702,2709,2716,2723,2737,2744,2751,2758,2772,2779,2786,2793,2807,2814,2821,2828,2842,2849,2856,2863,2877,2884,2891,2898,2912,2919,2926,2933,2947,2954,2961,2968,2982,2989,2996,3003,3017,3024,3031,3038,3052,3059,3066,3073,3087,3094,3101,3108,3122,3129,3136,3143,3157,3164,3171,3178,3192,3199,"
     ]
    }
   ],
   "source": [
    "for i in range(2000,3201): # for loop with range 1 > than last element to include 3200\n",
    "    if i%7==0:             \n",
    "        if i%5!=0:\n",
    "            print(i, end=',') # to get result in 1 line with comma separating them\n",
    "    "
   ]
  },
  {
   "cell_type": "markdown",
   "metadata": {},
   "source": [
    "# 1.3 Program to Let user enter input(first name & last name) & print them in reverse sequence  "
   ]
  },
  {
   "cell_type": "code",
   "execution_count": 5,
   "metadata": {},
   "outputs": [
    {
     "name": "stdout",
     "output_type": "stream",
     "text": [
      "Enter First name:Aditya \n",
      "Enter Last name:Bhardwaj\n",
      "Bhardwaj Aditya \n"
     ]
    }
   ],
   "source": [
    "fname=input('Enter First name:')     #let the users enter first name eg: Aditya\n",
    "lname=input('Enter Last name:')     #let the users enter last name eg: Bhardwaj\n",
    "print(lname, fname)\n",
    "\n",
    "#NOTE: We refrain from putting quotes in print statement? ANS: to let python take fname & lname as variable "
   ]
  },
  {
   "cell_type": "code",
   "execution_count": 6,
   "metadata": {},
   "outputs": [],
   "source": [
    "#Write a Python program to find the volume of a sphere with diameter 12 cm.\n",
    "#Formula: V=4/3 * π * r 3"
   ]
  },
  {
   "cell_type": "code",
   "execution_count": 7,
   "metadata": {},
   "outputs": [
    {
     "name": "stdout",
     "output_type": "stream",
     "text": [
      "Enter diameter value:12\n",
      "volume of sphere is: 904.7786842338603\n"
     ]
    }
   ],
   "source": [
    "import math                             ## we have to import math library files to get pi(3.14)\n",
    "d= float(input(\"Enter diameter value:\",)) ## to accept even decimal values, we converted input value into float\n",
    "r=float(d/2)                              ## We also conver this value to float to avoid any error thrown\n",
    "vol=(4/3)*(math.pi)*(r**3)                 ##^ is used by using (**) where x^y will be denoted as x**y  \n",
    "print(\"volume of sphere is:\",vol)\n"
   ]
  },
  {
   "cell_type": "markdown",
   "metadata": {},
   "source": [
    "# Assignment 2 "
   ]
  },
  {
   "cell_type": "markdown",
   "metadata": {},
   "source": [
    "# 2.1 Write a program which accepts a sequence of comma-separated numbers from console and generate a list."
   ]
  },
  {
   "cell_type": "code",
   "execution_count": 8,
   "metadata": {},
   "outputs": [
    {
     "name": "stdout",
     "output_type": "stream",
     "text": [
      "Enter comma separated number:22,19,02,15,33,44,191\n",
      "['22', '19', '02', '15', '33', '44', '191']\n"
     ]
    }
   ],
   "source": [
    "INP= input(\"Enter comma separated number:\")\n",
    "\n",
    "lis=INP.split(\",\")\n",
    "print(lis)\n"
   ]
  },
  {
   "cell_type": "markdown",
   "metadata": {},
   "source": [
    "# 2.2 Create the below pattern using nested for loop in Python.\n",
    "\n",
    "*\n",
    "* *\n",
    "* * *\n",
    "* * * *\n",
    "* * * * *\n",
    "* * * *\n",
    "* * *\n",
    "* *\n",
    "*"
   ]
  },
  {
   "cell_type": "code",
   "execution_count": 12,
   "metadata": {},
   "outputs": [
    {
     "name": "stdout",
     "output_type": "stream",
     "text": [
      "\n",
      "* \n",
      "* * \n",
      "* * * \n",
      "* * * * \n",
      "* * * * * \n",
      "* * * * \n",
      "* * * \n",
      "* * \n",
      "* \n"
     ]
    }
   ],
   "source": [
    "n=5;\n",
    "for i in range(0,n):\n",
    "    for j in range(i):\n",
    "        print ('* ', end=\"\")\n",
    "    print('')\n",
    "\n",
    "for i in range(n,0,-1):\n",
    "    for j in range(i):\n",
    "        print('* ', end=\"\")\n",
    "    print('')"
   ]
  },
  {
   "cell_type": "markdown",
   "metadata": {},
   "source": [
    "# 2.3 Write a Python program to reverse a word after accepting the input from the user."
   ]
  },
  {
   "cell_type": "code",
   "execution_count": 9,
   "metadata": {},
   "outputs": [
    {
     "name": "stdout",
     "output_type": "stream",
     "text": [
      "enter any word to reverse:DataScientist\n"
     ]
    },
    {
     "data": {
      "text/plain": [
       "'tsitneicSataD'"
      ]
     },
     "execution_count": 9,
     "metadata": {},
     "output_type": "execute_result"
    }
   ],
   "source": [
    "y=input(\"enter any word to reverse:\",)\n",
    "y[::-1]"
   ]
  },
  {
   "cell_type": "markdown",
   "metadata": {},
   "source": [
    "# 2.4 4. Write a Python Program to print the given string in the format specified in the\n",
    "sample output.\n",
    "WE, THE PEOPLE OF INDIA, having solemnly resolved to constitute India into a SOVEREIGN,\n",
    "SOCIALIST, SECULAR, DEMOCRATIC REPUBLIC and to secure to all its citizens"
   ]
  },
  {
   "cell_type": "code",
   "execution_count": 13,
   "metadata": {},
   "outputs": [
    {
     "name": "stdout",
     "output_type": "stream",
     "text": [
      "WE, THE PEOPLE OF INDIA, \n",
      "\thaving solemnly resolved to constitute India into a SOVEREIGN!\n",
      "\t\tSOCIALIST, SECULAR, DEMOCRATIC \n",
      "\t\t REPUBLIC and to secure to all its citizens\n"
     ]
    }
   ],
   "source": [
    "print(\"WE, THE PEOPLE OF INDIA, \\n\\thaving solemnly resolved to constitute India into a SOVEREIGN!\\n\\t\\tSOCIALIST, SECULAR, DEMOCRATIC \\n\\t\\t REPUBLIC and to secure to all its citizens\")"
   ]
  },
  {
   "cell_type": "markdown",
   "metadata": {},
   "source": [
    "# ASSIGNEMNT 3"
   ]
  },
  {
   "cell_type": "markdown",
   "metadata": {},
   "source": [
    "# 3.1.1 Write a Python Program to implement your own myreduce() function which works exactly\n",
    "like Python's built-in function reduce()"
   ]
  },
  {
   "cell_type": "code",
   "execution_count": 1,
   "metadata": {},
   "outputs": [
    {
     "data": {
      "text/plain": [
       "6469693230"
      ]
     },
     "execution_count": 1,
     "metadata": {},
     "output_type": "execute_result"
    }
   ],
   "source": [
    "#declare a list of first ten prime numbers\n",
    "\n",
    "primenum=[2,3,5,7,11,13,17,19,23,29]\n",
    "\n",
    "#to initialize take product as 1\n",
    "product=1\n",
    "\n",
    "#apply for loop to iterate over each value in primenum list\n",
    "\n",
    "for i in primenum:\n",
    "    product=product*i\n",
    "product\n",
    "\n",
    "\n"
   ]
  },
  {
   "cell_type": "code",
   "execution_count": 3,
   "metadata": {},
   "outputs": [
    {
     "data": {
      "text/plain": [
       "6469693230"
      ]
     },
     "execution_count": 3,
     "metadata": {},
     "output_type": "execute_result"
    }
   ],
   "source": [
    "# veryfying using reduce function\n",
    "from functools import reduce\n",
    "\n",
    "a=lambda x,y: x*y\n",
    "reduce(a,primenum)"
   ]
  },
  {
   "cell_type": "markdown",
   "metadata": {},
   "source": [
    "# 3.1.2 Write a Python program to implement your own myfilter() function which works exactly\n",
    "like Python's built-in function filter()"
   ]
  },
  {
   "cell_type": "code",
   "execution_count": 7,
   "metadata": {},
   "outputs": [
    {
     "name": "stdout",
     "output_type": "stream",
     "text": [
      "5.5\n",
      "[6, 7, 8, 9, 10]\n"
     ]
    }
   ],
   "source": [
    "#import statistics module to get median of values in below list 'datum'\n",
    "\n",
    "import statistics \n",
    "\n",
    "datum= [1,2,3,4,5,6,7,8,9,10]\n",
    "#calculate median using the below function\n",
    "median=statistics.median(datum)\n",
    "#print out median\n",
    "print(median)\n",
    "#introduce an empty list to append result data directly into this list\n",
    "list2=[]\n",
    "for i in datum:\n",
    "    if i>median:\n",
    "        list2.append(i)\n",
    "#get the result as will be from a  filter function\n",
    "print(list2)\n",
    "    "
   ]
  },
  {
   "cell_type": "code",
   "execution_count": 5,
   "metadata": {},
   "outputs": [
    {
     "data": {
      "text/plain": [
       "[6, 7, 8, 9, 10]"
      ]
     },
     "execution_count": 5,
     "metadata": {},
     "output_type": "execute_result"
    }
   ],
   "source": [
    "# check using my reduce function\n",
    "\n",
    "list(filter(lambda x:x>median,datum))\n"
   ]
  },
  {
   "cell_type": "markdown",
   "metadata": {},
   "source": [
    "# 3.2. Implement List comprehensions to produce the following lists.\n",
    "Write List comprehensions to produce the following Lists\n"
   ]
  },
  {
   "cell_type": "code",
   "execution_count": 12,
   "metadata": {},
   "outputs": [
    {
     "data": {
      "text/plain": [
       "['x', 'xx', 'xxx', 'xxxx', 'y', 'yy', 'yyy', 'yyyy', 'z', 'zz', 'zzz', 'zzzz']"
      ]
     },
     "execution_count": 12,
     "metadata": {},
     "output_type": "execute_result"
    }
   ],
   "source": [
    "#2. Implement List comprehensions to produce the following lists.\n",
    "#Write List comprehensions to produce the following Lists\n",
    "#['A', 'C', 'A', 'D', 'G', 'I', ’L’, ‘ D’]\n",
    "\n",
    "#['x', 'xx', 'xxx', 'xxxx', 'y', 'yy', 'yyy', 'yyyy', 'z', 'zz', 'zzz', 'zzzz']\n",
    "\n",
    "#['x', 'y', 'z', 'xx', 'yy', 'zz', 'xxx', 'yyy', 'zzz', 'xxxx', 'yyyy', 'zzzz']\n",
    "\n",
    "#[[2], [3], [4], [3], [4], [5], [4], [5], [6]] \n",
    "\n",
    "#[[2, 3, 4, 5], [3, 4, 5, 6],[4, 5, 6, 7], [5, 6, 7, 8]]\n",
    "\n",
    "#[(1, 1), (2, 1), (3, 1), (1, 2), (2, 2), (3, 2), (1, 3), (2, 3), (3, 3)]\n",
    "\n",
    " \n",
    "\n",
    "        \n",
    "            \n",
    "  \n"
   ]
  },
  {
   "cell_type": "code",
   "execution_count": 7,
   "metadata": {},
   "outputs": [
    {
     "name": "stdout",
     "output_type": "stream",
     "text": [
      "['A', 'C', 'A', 'D', 'G', 'I', 'L', 'D']\n"
     ]
    }
   ],
   "source": [
    "# we shall apply th eList comprehension method here give away the complication of nested for loop\n",
    "\n",
    "\n",
    "LC1=[i for i in 'ACADGILD']\n",
    "print(LC1)"
   ]
  },
  {
   "cell_type": "code",
   "execution_count": 13,
   "metadata": {},
   "outputs": [
    {
     "data": {
      "text/plain": [
       "['x', 'xx', 'xxx', 'xxxx', 'y', 'yy', 'yyy', 'yyyy', 'z', 'zz', 'zzz', 'zzzz']"
      ]
     },
     "execution_count": 13,
     "metadata": {},
     "output_type": "execute_result"
    }
   ],
   "source": [
    "l= [j*i for j in 'xyz' for i in range(1,5)]  \n",
    "l"
   ]
  },
  {
   "cell_type": "code",
   "execution_count": 10,
   "metadata": {},
   "outputs": [
    {
     "name": "stdout",
     "output_type": "stream",
     "text": [
      "['x', 'y', 'z', 'xx', 'yy', 'zz', 'xxx', 'yyy', 'zzz', 'xxxx', 'yyyy', 'zzzz']\n"
     ]
    }
   ],
   "source": [
    "l1 = [ j*i for i in range(1,5) for j in 'xyz']\n",
    "print(l1)"
   ]
  },
  {
   "cell_type": "code",
   "execution_count": 9,
   "metadata": {},
   "outputs": [
    {
     "name": "stdout",
     "output_type": "stream",
     "text": [
      "[[2], [3], [4], [3], [4], [5], [4], [5], [6]]\n"
     ]
    }
   ],
   "source": [
    "l2 = [ [i+j] for i in range(2,5) for j in range(3)]\n",
    "print(l2)"
   ]
  },
  {
   "cell_type": "code",
   "execution_count": 10,
   "metadata": {},
   "outputs": [
    {
     "name": "stdout",
     "output_type": "stream",
     "text": [
      "[[2, 3, 4, 5], [3, 4, 5, 6], [4, 5, 6, 7], [5, 6, 7, 8]]\n"
     ]
    }
   ],
   "source": [
    "l3 = [ [i+j for i in range(2,6)] for j in range(4)]\n",
    "print(l3)"
   ]
  },
  {
   "cell_type": "code",
   "execution_count": 11,
   "metadata": {},
   "outputs": [
    {
     "name": "stdout",
     "output_type": "stream",
     "text": [
      "[(1, 1), (2, 1), (3, 1), (1, 2), (2, 2), (3, 2), (1, 3), (2, 3), (3, 3)]\n"
     ]
    }
   ],
   "source": [
    "l4 = [ (j,i) for i in range(1,4) for j in range(1,4) ]\n",
    "print(l4)"
   ]
  },
  {
   "cell_type": "markdown",
   "metadata": {},
   "source": [
    "# 3.3 Implement a function longestWord() that takes a list of words and returns the longest one."
   ]
  },
  {
   "cell_type": "code",
   "execution_count": 12,
   "metadata": {},
   "outputs": [
    {
     "name": "stdout",
     "output_type": "stream",
     "text": [
      "abra-ca-dabra!\n"
     ]
    }
   ],
   "source": [
    "def long_word(list_word):\n",
    "    wordlen=[]\n",
    "    for i in list_word:\n",
    "        wordlen.append((len(i),i))\n",
    "    wordlen.sort\n",
    "    return wordlen[-1][1]\n",
    "print(long_word([\"aaa\",\"abaa\",\"abcdefgh\",\"abra-ca-dabra!\"]))"
   ]
  },
  {
   "cell_type": "markdown",
   "metadata": {},
   "source": [
    "# ASSIGNMENT 4"
   ]
  },
  {
   "cell_type": "markdown",
   "metadata": {},
   "source": [
    "# 4.1.1 Write a Python Program(with class concepts) to find the area of the triangle using the below\n",
    "formula.\n",
    "area = (s*(s-a)*(s-b)*(s-c)) ** 0.5\n",
    "Function to take the length of the sides of triangle from user should be defined in the parent\n",
    "class and function to calculate the area should be defined in subclass."
   ]
  },
  {
   "cell_type": "code",
   "execution_count": 14,
   "metadata": {},
   "outputs": [
    {
     "name": "stdout",
     "output_type": "stream",
     "text": [
      "Enter sides of triangle: 12\n",
      "Enter sides of triangle: 12\n",
      "Enter sides of triangle: 12\n"
     ]
    },
    {
     "data": {
      "text/plain": [
       "44.090815370097204"
      ]
     },
     "execution_count": 14,
     "metadata": {},
     "output_type": "execute_result"
    }
   ],
   "source": [
    "import math\n",
    "#DEFINING A PARENT CLASS WITH FIRST INSTANCE AS SELF AND Other instance variable \n",
    "class area:                                         \n",
    "    def __init__(self,s1,s2,s3):\n",
    "        self.s1=s1\n",
    "        self.s2=s2\n",
    "        self.s3=s3\n",
    "       \n",
    "    # Defining the subclass        \n",
    "class Function(area):\n",
    "    def __init__(self,*args):\n",
    "        super(Function,self).__init__(*args)  #we pass the argument to inherit properties of sides \n",
    "    \n",
    "    def aot(self):                            #function to introduce the area od triangle caluclation as aot\n",
    "        s=float(self.s1+self.s2+self.s3)/2\n",
    "        return math.sqrt((s*(s-self.s1)*(s-self.s2)*(s-self.s3)*0.5))\n",
    "    \n",
    "sides=[]\n",
    "\n",
    "for i in range(3):                          #introducing the for loop to accept sides of triangle from console \n",
    "    sides.append(float(input('Enter sides of triangle: ')))\n",
    "    \n",
    "x=Function(*sides)                        \n",
    "x.aot()"
   ]
  },
  {
   "cell_type": "markdown",
   "metadata": {},
   "source": [
    "# 4.1.2 Write a function filter_long_words() that takes a list of words and an integer n and returns\n",
    "the list of words that are longer than n."
   ]
  },
  {
   "cell_type": "code",
   "execution_count": 5,
   "metadata": {},
   "outputs": [
    {
     "data": {
      "text/plain": [
       "['phenomenal']"
      ]
     },
     "execution_count": 5,
     "metadata": {},
     "output_type": "execute_result"
    }
   ],
   "source": [
    "#first define a function (lon_words)\n",
    "\n",
    "def filter_long_words(list_of_word,n):\n",
    "     # we shall apply a list comprehension on every element in below list \n",
    "     # and return the word that is greater in length than value of 'n'\n",
    "\n",
    "    return [word for word in list_of_word if len(word)>n]\n",
    "\n",
    "list_of_word=[\"Eminem\",\"is\",\"a\",\"phenomenal\",\"singer\",\"&\",\"a\",\"rapper\"]\n",
    "\n",
    "n=9\n",
    "\n",
    "#call the function \n",
    "\n",
    "filter_long_words(list_of_word,n)"
   ]
  },
  {
   "cell_type": "markdown",
   "metadata": {},
   "source": [
    "# 4.2.1  Write a Python program using function concept that maps list of words into a list of integers\n",
    "representing the lengths of the corresponding words.\n",
    "Hint: If a list [ ab,cde,erty] is passed on to the python function output should come as [2,3,4]\n",
    "Here 2,3 and 4 are the lengths of the words in the list."
   ]
  },
  {
   "cell_type": "code",
   "execution_count": 29,
   "metadata": {},
   "outputs": [
    {
     "name": "stdout",
     "output_type": "stream",
     "text": [
      "[6, 2, 1, 10, 6, 1, 1, 6]\n"
     ]
    }
   ],
   "source": [
    "#introduce a list with string of multiple character\n",
    "s=[\"Eminem\",\"is\",\"a\",\"phenomenal\",\"singer\",\"&\",\"a\",\"rapper\"]\n",
    "\n",
    "#define function to get the length \n",
    "def return_len(s):  \n",
    "    #pass an empty list'count'\n",
    "    count=[]\n",
    "    for i in s:\n",
    "    #use the in-built function append to get the list s appended in empty list'count'\n",
    "        count.append(len(i))\n",
    "    #returns the updated list count with strings from list s \n",
    "    return count\n",
    "\n",
    "print(return_len(s))"
   ]
  },
  {
   "cell_type": "markdown",
   "metadata": {},
   "source": [
    "# 4.2.2 Write a Python function which takes a character (i.e. a string of length 1) and returns True if\n",
    "it is a vowel, False otherwise."
   ]
  },
  {
   "cell_type": "code",
   "execution_count": 30,
   "metadata": {},
   "outputs": [
    {
     "name": "stdout",
     "output_type": "stream",
     "text": [
      "Enter character:k\n",
      "False\n"
     ]
    }
   ],
   "source": [
    "#define the function 'vowel or not '\n",
    "def von():\n",
    "    #introduce the list of vowels,for best  result enter both in capital and small letters\n",
    "    \n",
    "    m=['a','e','i','o','u','A','E','I','O','U']\n",
    "    \n",
    "    #ask a character from console \n",
    "    y=input('Enter character:')\n",
    "    \n",
    "    #use if else function to compare the value entered to match with that from list 'm'\n",
    "    \n",
    "    if y in m:\n",
    "        return True\n",
    "    else:\n",
    "        print('False')   \n",
    "     \n",
    "    #call the function        \n",
    "\n",
    "von()\n",
    "\n",
    "\n",
    "\n"
   ]
  },
  {
   "cell_type": "markdown",
   "metadata": {},
   "source": [
    "# ASSIGNMENT 5"
   ]
  },
  {
   "cell_type": "markdown",
   "metadata": {},
   "source": [
    "# 5.1. Write a function to compute 5/0 and use try/except to catch the exceptions."
   ]
  },
  {
   "cell_type": "code",
   "execution_count": 6,
   "metadata": {},
   "outputs": [
    {
     "name": "stdout",
     "output_type": "stream",
     "text": [
      "Enter the integer value for x:5\n",
      "Zero Division Error: Division by zero\n",
      "Correction,please replace the denominator in 'f' by any non zero value\n"
     ]
    }
   ],
   "source": [
    "def wrong_div():\n",
    "    #ASK THE USER TO INPUT AN INTEGER, here: 5 \n",
    "    x=input('Enter the integer value for x:')\n",
    "    f=x/y\n",
    "try:\n",
    "    wrong_div()\n",
    "except:\n",
    "    print(\"Zero Division Error: Division by zero\")\n",
    "\n",
    "finally:\n",
    "    print(\"Correction,please replace the denominator in 'f' by any non zero value\")\n",
    "        "
   ]
  },
  {
   "cell_type": "markdown",
   "metadata": {},
   "source": [
    "# 5.2. Implement a Python program to generate all sentences where subject is in\n",
    "[\"Americans\", \"Indians\"] and verb is in [\"Play\", \"watch\"] and the object is in\n",
    "[\"Baseball\",\"cricket\"].\n",
    "Hint: Subject,Verb and Object should be declared in the program as shown below.\n",
    "subjects=[\"Americans \",\"Indians\"]\n",
    "verbs=[\"play\",\"watch\"]\n",
    "objects=[\"Baseball\",\"Cricket\"]"
   ]
  },
  {
   "cell_type": "code",
   "execution_count": 36,
   "metadata": {},
   "outputs": [
    {
     "name": "stdout",
     "output_type": "stream",
     "text": [
      "Americans Play Baseball\n",
      "Americans Play cricket\n",
      "Americans watch Baseball\n",
      "Americans watch cricket\n",
      "Indians Play Baseball\n",
      "Indians Play cricket\n",
      "Indians watch Baseball\n",
      "Indians watch cricket\n"
     ]
    }
   ],
   "source": [
    "subject=[\"Americans\", \"Indians\"]\n",
    "verb=[\"Play\", \"watch\"]\n",
    "obj=[\"Baseball\",\"cricket\"]\n",
    "\n",
    "#Applying multiple for loops will be a tedious task\n",
    "\n",
    "#List comprehension \n",
    "sentence_list = [(sub+\" \"+ vb + \" \" + ob) for sub in subject for vb in verb for ob in obj]\n",
    "for sentence in sentence_list:\n",
    "    print(sentence)\n"
   ]
  },
  {
   "cell_type": "markdown",
   "metadata": {},
   "source": [
    "# END OF ASSIGNMENT FOR PYTHON"
   ]
  },
  {
   "cell_type": "code",
   "execution_count": null,
   "metadata": {},
   "outputs": [],
   "source": []
  }
 ],
 "metadata": {
  "kernelspec": {
   "display_name": "Python 3",
   "language": "python",
   "name": "python3"
  },
  "language_info": {
   "codemirror_mode": {
    "name": "ipython",
    "version": 3
   },
   "file_extension": ".py",
   "mimetype": "text/x-python",
   "name": "python",
   "nbconvert_exporter": "python",
   "pygments_lexer": "ipython3",
   "version": "3.7.3"
  }
 },
 "nbformat": 4,
 "nbformat_minor": 2
}
